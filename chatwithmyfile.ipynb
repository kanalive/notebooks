{
  "nbformat": 4,
  "nbformat_minor": 0,
  "metadata": {
    "colab": {
      "provenance": [],
      "collapsed_sections": [
        "BtFsoXbFxZiq"
      ],
      "mount_file_id": "1qVkEAzhACMgMGytorVLOZatyhJQ4beRB",
      "authorship_tag": "ABX9TyP1DTVnYEAjyegcOmEAgOMD",
      "include_colab_link": true
    },
    "kernelspec": {
      "name": "python3",
      "display_name": "Python 3"
    },
    "language_info": {
      "name": "python"
    }
  },
  "cells": [
    {
      "cell_type": "markdown",
      "metadata": {
        "id": "view-in-github",
        "colab_type": "text"
      },
      "source": [
        "<a href=\"https://colab.research.google.com/github/kanalive/notebooks/blob/main/chatwithmyfile.ipynb\" target=\"_parent\"><img src=\"https://colab.research.google.com/assets/colab-badge.svg\" alt=\"Open In Colab\"/></a>"
      ]
    },
    {
      "cell_type": "markdown",
      "source": [
        "# Your API Key\n",
        "Please mount your google drive before executing below code."
      ],
      "metadata": {
        "id": "h9YX8lL0wln9"
      }
    },
    {
      "cell_type": "code",
      "source": [
        "import json\n",
        "# Load environment object from JSON\n",
        "file_path = '/content/drive/MyDrive/keys/keys.json'  # Replace with the actual file path\n",
        "with open(file_path, 'r') as file:\n",
        "    loaded_object = json.load(file)\n",
        "\n",
        "OPEN_AI_API_KEY = loaded_object['OPEN_AI_API_KEY']"
      ],
      "metadata": {
        "id": "TNWyfqSfwn6T"
      },
      "execution_count": null,
      "outputs": []
    },
    {
      "cell_type": "markdown",
      "source": [
        "#Environment Setup\n",
        "\n",
        "*   Pip install all packages\n",
        "*   Importing required libaries\n",
        "*   Setup OpenAI API key\n",
        "*   Initiatie LLM model\n",
        "\n"
      ],
      "metadata": {
        "id": "DH5KJotPxnqP"
      }
    },
    {
      "cell_type": "code",
      "execution_count": null,
      "metadata": {
        "id": "gmvw_uKpj4QB"
      },
      "outputs": [],
      "source": [
        "!pip install openai -q\n",
        "!pip install langchain -q\n",
        "!pip install chromadb -q\n",
        "!pip install tiktoken -q\n",
        "!pip install pypdf -q\n",
        "!pip install unstructured[local-inference] -q\n"
      ]
    },
    {
      "cell_type": "markdown",
      "source": [
        "Highlevel architecture view\n",
        "https://miro.medium.com/v2/resize:fit:4800/format:webp/1*vQUhrf8uCyFQfBbIgF46Zw.png"
      ],
      "metadata": {
        "id": "h4XXdFhcvUlg"
      }
    },
    {
      "cell_type": "code",
      "source": [
        "from langchain.embeddings.openai import OpenAIEmbeddings\n",
        "from langchain.vectorstores import Chroma\n",
        "from langchain.text_splitter import CharacterTextSplitter\n",
        "from langchain.chains import ConversationalRetrievalChain\n",
        "\n",
        "import os\n",
        "os.environ[\"OPENAI_API_KEY\"] = OPEN_AI_API_KEY\n",
        "\n",
        "from langchain.chat_models import ChatOpenAI\n",
        "llm = ChatOpenAI(temperature=0, model_name=\"gpt-3.5-turbo\")"
      ],
      "metadata": {
        "id": "Lapub3P9kJft"
      },
      "execution_count": null,
      "outputs": []
    },
    {
      "cell_type": "code",
      "source": [
        "import PIL\n",
        "print(PIL.__version__)"
      ],
      "metadata": {
        "id": "BF9SsFIVlFO_",
        "outputId": "6c0a1d79-3804-496e-c103-bd4b3b4213fb",
        "colab": {
          "base_uri": "https://localhost:8080/"
        }
      },
      "execution_count": null,
      "outputs": [
        {
          "output_type": "stream",
          "name": "stdout",
          "text": [
            "9.5.0\n"
          ]
        }
      ]
    },
    {
      "cell_type": "code",
      "source": [
        "!pip uninstall Pillow\n",
        "!pip install --upgrade Pillow\n",
        "print(PIL.__version__)"
      ],
      "metadata": {
        "id": "7AiVY0RjlI12",
        "colab": {
          "base_uri": "https://localhost:8080/",
          "height": 607
        },
        "outputId": "6ea7e011-328d-48c9-a434-d273e82db4f1"
      },
      "execution_count": null,
      "outputs": [
        {
          "output_type": "stream",
          "name": "stdout",
          "text": [
            "Found existing installation: Pillow 9.5.0\n",
            "Uninstalling Pillow-9.5.0:\n",
            "  Would remove:\n",
            "    /usr/local/lib/python3.10/dist-packages/PIL/*\n",
            "    /usr/local/lib/python3.10/dist-packages/Pillow-9.5.0.dist-info/*\n",
            "    /usr/local/lib/python3.10/dist-packages/Pillow.libs/libXau-154567c4.so.6.0.0\n",
            "    /usr/local/lib/python3.10/dist-packages/Pillow.libs/libbrotlicommon-92722cb2.so.1\n",
            "    /usr/local/lib/python3.10/dist-packages/Pillow.libs/libbrotlidec-db4b3db6.so.1.0.9\n",
            "    /usr/local/lib/python3.10/dist-packages/Pillow.libs/libfreetype-cb9caf6f.so.6.19.0\n",
            "    /usr/local/lib/python3.10/dist-packages/Pillow.libs/libharfbuzz-3543f599.so.0.60710.0\n",
            "    /usr/local/lib/python3.10/dist-packages/Pillow.libs/libjpeg-f2134fdd.so.62.3.0\n",
            "    /usr/local/lib/python3.10/dist-packages/Pillow.libs/liblcms2-12745711.so.2.0.15\n",
            "    /usr/local/lib/python3.10/dist-packages/Pillow.libs/liblzma-95592ee6.so.5.4.2\n",
            "    /usr/local/lib/python3.10/dist-packages/Pillow.libs/libopenjp2-78c47f58.so.2.5.0\n",
            "    /usr/local/lib/python3.10/dist-packages/Pillow.libs/libpng16-cb42a3c6.so.16.39.0\n",
            "    /usr/local/lib/python3.10/dist-packages/Pillow.libs/libsharpyuv-9340467d.so.0.0.0\n",
            "    /usr/local/lib/python3.10/dist-packages/Pillow.libs/libtiff-b9364ff1.so.6.0.0\n",
            "    /usr/local/lib/python3.10/dist-packages/Pillow.libs/libwebp-3ee34a0b.so.7.1.6\n",
            "    /usr/local/lib/python3.10/dist-packages/Pillow.libs/libwebpdemux-785dd7eb.so.2.0.12\n",
            "    /usr/local/lib/python3.10/dist-packages/Pillow.libs/libwebpmux-ddfacf1d.so.3.0.11\n",
            "    /usr/local/lib/python3.10/dist-packages/Pillow.libs/libxcb-3e83370d.so.1.1.0\n",
            "Proceed (Y/n)? y\n",
            "  Successfully uninstalled Pillow-9.5.0\n",
            "Looking in indexes: https://pypi.org/simple, https://us-python.pkg.dev/colab-wheels/public/simple/\n",
            "Collecting Pillow\n",
            "  Using cached Pillow-9.5.0-cp310-cp310-manylinux_2_28_x86_64.whl (3.4 MB)\n",
            "Installing collected packages: Pillow\n",
            "Successfully installed Pillow-9.5.0\n"
          ]
        },
        {
          "output_type": "display_data",
          "data": {
            "application/vnd.colab-display-data+json": {
              "pip_warning": {
                "packages": [
                  "PIL"
                ]
              }
            }
          },
          "metadata": {}
        },
        {
          "output_type": "stream",
          "name": "stdout",
          "text": [
            "8.4.0\n"
          ]
        }
      ]
    },
    {
      "cell_type": "markdown",
      "source": [
        "# Load data from your location\n",
        "In my example my files are located on my google drive."
      ],
      "metadata": {
        "id": "hg5wrj91yLox"
      }
    },
    {
      "cell_type": "code",
      "source": [
        "from google.colab import drive\n",
        "drive.mount('/content/drive')"
      ],
      "metadata": {
        "colab": {
          "base_uri": "https://localhost:8080/"
        },
        "id": "WNAUK-jm0Cti",
        "outputId": "d980c48e-f4b4-4f05-80c1-b698951ad1ae"
      },
      "execution_count": null,
      "outputs": [
        {
          "output_type": "stream",
          "name": "stdout",
          "text": [
            "Drive already mounted at /content/drive; to attempt to forcibly remount, call drive.mount(\"/content/drive\", force_remount=True).\n"
          ]
        }
      ]
    },
    {
      "cell_type": "code",
      "source": [
        "from langchain.document_loaders import DirectoryLoader\n",
        "\n",
        "pdf_loader = DirectoryLoader('/content/drive/MyDrive/Colab Notebooks/test/', glob=\"**/*.pdf\")\n",
        "\n",
        "\n",
        "loaders = [pdf_loader]\n",
        "documents = []\n",
        "for loader in loaders:\n",
        "  documents.extend(loader.load())\n",
        "print (f\"Total number of documents: {len(documents)}\")"
      ],
      "metadata": {
        "colab": {
          "base_uri": "https://localhost:8080/"
        },
        "id": "vQO0N0Y6l5LP",
        "outputId": "d82d51c0-1de9-4464-cad3-c374e1f392d7"
      },
      "execution_count": 22,
      "outputs": [
        {
          "output_type": "stream",
          "name": "stdout",
          "text": [
            "Total number of documents: 1\n"
          ]
        }
      ]
    },
    {
      "cell_type": "markdown",
      "source": [
        "# File data processing\n",
        "Split text by defined chunk size, embedding and store the data in vector store."
      ],
      "metadata": {
        "id": "TsHk7xNfycnJ"
      }
    },
    {
      "cell_type": "code",
      "source": [
        "from langchain import vectorstores\n",
        "text_splitter = CharacterTextSplitter(chunk_size=1000, chunk_overlap=0)\n",
        "documents = text_splitter.split_documents(documents)\n",
        "\n",
        "embeddings = OpenAIEmbeddings()\n",
        "vectorstores = Chroma.from_documents(documents, embeddings)\n"
      ],
      "metadata": {
        "id": "ZgVld6r4zsjn",
        "colab": {
          "base_uri": "https://localhost:8080/"
        },
        "outputId": "9295b4be-a5b8-4975-ca0c-6135d526d558"
      },
      "execution_count": 24,
      "outputs": [
        {
          "output_type": "stream",
          "name": "stderr",
          "text": [
            "WARNING:langchain.text_splitter:Created a chunk of size 1134, which is longer than the specified 1000\n",
            "WARNING:langchain.text_splitter:Created a chunk of size 1103, which is longer than the specified 1000\n",
            "WARNING:langchain.text_splitter:Created a chunk of size 1063, which is longer than the specified 1000\n",
            "WARNING:langchain.text_splitter:Created a chunk of size 2146, which is longer than the specified 1000\n",
            "WARNING:langchain.text_splitter:Created a chunk of size 2213, which is longer than the specified 1000\n",
            "WARNING:langchain.text_splitter:Created a chunk of size 2138, which is longer than the specified 1000\n",
            "WARNING:langchain.text_splitter:Created a chunk of size 1142, which is longer than the specified 1000\n",
            "WARNING:langchain.text_splitter:Created a chunk of size 1684, which is longer than the specified 1000\n",
            "WARNING:langchain.text_splitter:Created a chunk of size 2503, which is longer than the specified 1000\n"
          ]
        }
      ]
    },
    {
      "cell_type": "markdown",
      "source": [
        "# Constructe the LLM model\n",
        "Constructe the LLM model with the created vector store."
      ],
      "metadata": {
        "id": "S1II3-ScysqK"
      }
    },
    {
      "cell_type": "code",
      "source": [
        "qa = ConversationalRetrievalChain.from_llm(ChatOpenAI(temperature=0), vectorstores.as_retriever())"
      ],
      "metadata": {
        "id": "6uLv1aFE2NaV"
      },
      "execution_count": 26,
      "outputs": []
    },
    {
      "cell_type": "markdown",
      "source": [
        "# Start chatting!"
      ],
      "metadata": {
        "id": "I7kAvH-ZzLhu"
      }
    },
    {
      "cell_type": "code",
      "source": [
        "chat_history = []\n"
      ],
      "metadata": {
        "id": "WR0F7U3_2pbV"
      },
      "execution_count": 13,
      "outputs": []
    },
    {
      "cell_type": "code",
      "source": [
        "query = \"what is this document about\"\n",
        "result = qa({\"question\": query, \"chat_history\": chat_history})\n",
        "result[\"answer\"]"
      ],
      "metadata": {
        "colab": {
          "base_uri": "https://localhost:8080/",
          "height": 70
        },
        "id": "j1efoWPu3Hn9",
        "outputId": "b1e1606f-d50b-44a1-8bea-54de89734abd"
      },
      "execution_count": 27,
      "outputs": [
        {
          "output_type": "execute_result",
          "data": {
            "text/plain": [
              "\"The document is a report on data science methods by Barclays, discussing topic modeling as an unsupervised machine learning technique to attribute a topic to a text. It also includes information on the author's role in the Fixed Income, Currencies and Commodities Research department and important disclosures related to equity and fixed income research. Additionally, the report includes brief summaries of economic prospects, manufacturing, money measures, and trade.\""
            ],
            "application/vnd.google.colaboratory.intrinsic+json": {
              "type": "string"
            }
          },
          "metadata": {},
          "execution_count": 27
        }
      ]
    },
    {
      "cell_type": "code",
      "source": [
        "query = \"Could you summarise what is top modelling\"\n",
        "result = qa({\"question\": query, \"chat_history\": chat_history})\n",
        "result[\"answer\"]"
      ],
      "metadata": {
        "colab": {
          "base_uri": "https://localhost:8080/",
          "height": 87
        },
        "id": "HWVwof9sxe0t",
        "outputId": "304ab122-53e1-47e8-c6f1-07b32d93a4d1"
      },
      "execution_count": 28,
      "outputs": [
        {
          "output_type": "execute_result",
          "data": {
            "text/plain": [
              "'Topic modeling is an unsupervised machine learning technique used to attribute a topic to a text. It allows for detailed assessment of how the focus of texts change over time. The topic of a text can be a full document, but one might also decide to split the full document into sentences or paragraphs, and apply a topic model on those levels. The topic taxonomy and the text granularity are part of the design choices the modeler needs to make upfront, as are which topic model to use and how many topics to model. All these choices have large implications for model complexity and interpretability.'"
            ],
            "application/vnd.google.colaboratory.intrinsic+json": {
              "type": "string"
            }
          },
          "metadata": {},
          "execution_count": 28
        }
      ]
    },
    {
      "cell_type": "code",
      "source": [
        "query = \"Could you summarise the end to end processes of the top modelling described in this document\"\n",
        "result = qa({\"question\": query, \"chat_history\": chat_history})\n",
        "result[\"answer\"]"
      ],
      "metadata": {
        "colab": {
          "base_uri": "https://localhost:8080/",
          "height": 87
        },
        "id": "Zepsy0jfxY8j",
        "outputId": "85243a43-422b-4754-e3e8-a7874487c68d"
      },
      "execution_count": 30,
      "outputs": [
        {
          "output_type": "execute_result",
          "data": {
            "text/plain": [
              "'The document describes the end-to-end process of topic modeling, starting with data preparation, which involves selecting important keywords and formatting and normalizing the remaining tokens. Then, the high-dimensional TFIDF matrix is transformed into a lower-dimensional representation using Non-negative matrix factorization (NMF) or Latent semantic indexing (LSI) algorithms. Other algorithms like BERTopic and Top2Vec are also available. The best model choice is a simple, easy-to-understand model that provides intuitive and usable results. Finally, the topics are analyzed and interpreted to gain insights from the data.'"
            ],
            "application/vnd.google.colaboratory.intrinsic+json": {
              "type": "string"
            }
          },
          "metadata": {},
          "execution_count": 30
        }
      ]
    },
    {
      "cell_type": "code",
      "source": [
        "query = \"Could you articulate the step 2 - high-dimensional TFIDF matrix is transformed into a lower-dimensional representation using Non-negative matrix factorization (NMF) or Latent semantic indexing (LSI) algorithms\"\n",
        "result = qa({\"question\": query, \"chat_history\": chat_history})\n",
        "result[\"answer\"]"
      ],
      "metadata": {
        "colab": {
          "base_uri": "https://localhost:8080/",
          "height": 105
        },
        "id": "5AwxhnI8yubj",
        "outputId": "2e0ab501-e168-4f9b-806b-944113a35bec"
      },
      "execution_count": 32,
      "outputs": [
        {
          "output_type": "execute_result",
          "data": {
            "text/plain": [
              "'Yes, step 2 involves transforming the high-dimensional TFIDF matrix into a lower-dimensional representation using either Non-negative matrix factorization (NMF) or Latent semantic indexing (LSI) algorithms. \\n\\nIn Non-negative matrix factorization (NMF), the algorithm decomposes the TFIDF matrix into a document-topic matrix and a topic-term matrix. This transformation reduces the dimensionality of the matrix, making it easier to analyze and interpret.\\n\\nIn Latent semantic indexing (LSI), the algorithm uses truncated singular value decomposition to reduce the number of words while preserving the similarity structure among columns. This transformation also reduces the dimensionality of the matrix, making it easier to analyze and interpret.\\n\\nBoth NMF and LSI are well-documented and well-tested algorithms that have optimized python encapsulations in the gensim module.'"
            ],
            "application/vnd.google.colaboratory.intrinsic+json": {
              "type": "string"
            }
          },
          "metadata": {},
          "execution_count": 32
        }
      ]
    },
    {
      "cell_type": "markdown",
      "source": [
        "#The RBA meeting test case questions"
      ],
      "metadata": {
        "id": "BtFsoXbFxZiq"
      }
    },
    {
      "cell_type": "code",
      "source": [
        "query = \"Could you summarise the main points the April 2021 RBA statement is trying to deliver\"\n",
        "result = qa({\"question\": query, \"chat_history\": chat_history})\n",
        "result[\"answer\"]"
      ],
      "metadata": {
        "colab": {
          "base_uri": "https://localhost:8080/",
          "height": 122
        },
        "id": "3pHK3vka-NU7",
        "outputId": "b224d148-f8a6-460c-dee0-a534b2c8426f"
      },
      "execution_count": null,
      "outputs": [
        {
          "output_type": "execute_result",
          "data": {
            "text/plain": [
              "'The Reserve Bank of Australia (RBA) has decided to maintain the current policy settings, including the targets of 10 basis points for the cash rate and the yield on the 3-year Australian Government bond, as well as the parameters of the Term Funding Facility and the government bond purchase program. The global economy is recovering, although the recovery is uneven, and inflation remains low. The Australian economy is recovering faster than expected, with GDP increasing by 3.1% in the December quarter, boosted by a further lift in household consumption as the health situation improved. The recovery is expected to continue, with above-trend growth this year and next. Wage and price pressures are subdued and are expected to remain so for some years. The Board is committed to maintaining highly supportive monetary conditions until its goals of full employment and inflation consistent with the target are achieved. The Board will not increase the cash rate until actual inflation is sustainably within the 2 to 3 per cent target range, which is not expected to be met until 2024 at the earliest.'"
            ],
            "application/vnd.google.colaboratory.intrinsic+json": {
              "type": "string"
            }
          },
          "metadata": {},
          "execution_count": 46
        }
      ]
    },
    {
      "cell_type": "code",
      "source": [
        "query = \"In the April 2021 RBA statement, does the sentiment sounds like RBA is going to lift the interest rate in the next meeting?\"\n",
        "result = qa({\"question\": query, \"chat_history\": chat_history})\n",
        "result[\"answer\"]"
      ],
      "metadata": {
        "colab": {
          "base_uri": "https://localhost:8080/",
          "height": 87
        },
        "id": "qT657mK7B5ZF",
        "outputId": "78a35c07-8119-4689-8d51-2fa5f82ef311"
      },
      "execution_count": null,
      "outputs": [
        {
          "output_type": "execute_result",
          "data": {
            "text/plain": [
              "'No, the sentiment in the April 2021 RBA statement does not suggest that the RBA is going to lift the interest rate in the next meeting. The statement mentions that the Board decided to maintain the cash rate target at 10 basis points and the interest rate on Exchange Settlement balances at zero per cent. The statement also mentions that the Board is committed to achieving the goals of full employment and inflation consistent with the target, and that the current measures will provide the continuing monetary support that the economy needs as it transitions from the recovery phase to the expansion phase.'"
            ],
            "application/vnd.google.colaboratory.intrinsic+json": {
              "type": "string"
            }
          },
          "metadata": {},
          "execution_count": 47
        }
      ]
    },
    {
      "cell_type": "code",
      "source": [
        "query = \"What are the key points delivered in the 2 May 2023 RBA statement?\"\n",
        "result = qa({\"question\": query, \"chat_history\": chat_history})\n",
        "result[\"answer\"]"
      ],
      "metadata": {
        "colab": {
          "base_uri": "https://localhost:8080/",
          "height": 122
        },
        "id": "dd6eRyI6FFod",
        "outputId": "747e6b4c-d32e-4ea8-edfd-32a9e6958847"
      },
      "execution_count": null,
      "outputs": [
        {
          "output_type": "execute_result",
          "data": {
            "text/plain": [
              "\"The key points delivered in the 2 May 2023 RBA statement are:\\n\\n- The Board decided to increase the cash rate target by 25 basis points to 3.85 per cent and the rate paid on Exchange Settlement balances by 25 basis points to 3.75 per cent.\\n- Inflation in Australia has passed its peak, but at 7 per cent is still too high and it will be some time yet before it is back in the target range.\\n- Goods price inflation is clearly slowing due to a better balance of supply and demand following the resolution of the pandemic disruptions. But services price inflation is still very high and broadly based and the experience overseas points to upside risks.\\n- The labour market remains very tight, with the unemployment rate at a near 50-year low. Many firms continue to experience difficulty hiring workers, although there has been some easing in labour shortages and the number of vacancies has declined a little.\\n- The Board's priority remains to return inflation to target. High inflation makes life difficult for people and damages the functioning of the economy. Medium-term inflation expectations remain well anchored, and it is important that this remains the case.\\n- The Board expects that some further tightening of monetary policy may be required to ensure that inflation returns to target in a reasonable timeframe.\\n- The Board will continue to pay close attention to developments in the global economy, trends in household spending and the outlook for inflation and the labour market.\\n\\nThe sentiment in the statement suggests that the RBA is open to the possibility of lifting interest rates in the next meeting if it deems it necessary to return inflation to target in a reasonable timeframe. However, it does not explicitly state that a rate hike is imminent.\""
            ],
            "application/vnd.google.colaboratory.intrinsic+json": {
              "type": "string"
            }
          },
          "metadata": {},
          "execution_count": 71
        }
      ]
    },
    {
      "cell_type": "code",
      "source": [
        "query = \"In the May 2023 RBA statement, What's likelihood of RBA lift interest rate in the next meeting, 1 to indicate most likely, 0 not likely\"\n",
        "result = qa({\"question\": query, \"chat_history\": chat_history})\n",
        "result[\"answer\"]"
      ],
      "metadata": {
        "colab": {
          "base_uri": "https://localhost:8080/",
          "height": 70
        },
        "id": "hWiD-X5zH_l3",
        "outputId": "e422e193-a409-47c6-b360-e3d565904947"
      },
      "execution_count": null,
      "outputs": [
        {
          "output_type": "execute_result",
          "data": {
            "text/plain": [
              "'The statement does not provide information on the likelihood of the RBA lifting interest rates in the next meeting. The Board will continue to assess the state of the economy and the outlook, and make decisions based on developments in the global economy, trends in household spending, and the outlook for inflation and the labor market.'"
            ],
            "application/vnd.google.colaboratory.intrinsic+json": {
              "type": "string"
            }
          },
          "metadata": {},
          "execution_count": 11
        }
      ]
    },
    {
      "cell_type": "code",
      "source": [],
      "metadata": {
        "id": "kfwy5ocVN8P5"
      },
      "execution_count": null,
      "outputs": []
    },
    {
      "cell_type": "code",
      "source": [
        "!pip install tabula-py\n"
      ],
      "metadata": {
        "colab": {
          "base_uri": "https://localhost:8080/"
        },
        "id": "0zrSNHwoEytt",
        "outputId": "9f243e31-1b34-4796-8b2c-00e25e39bec8"
      },
      "execution_count": null,
      "outputs": [
        {
          "output_type": "stream",
          "name": "stdout",
          "text": [
            "Looking in indexes: https://pypi.org/simple, https://us-python.pkg.dev/colab-wheels/public/simple/\n",
            "Collecting tabula-py\n",
            "  Downloading tabula_py-2.7.0-py3-none-any.whl (12.0 MB)\n",
            "\u001b[2K     \u001b[90m━━━━━━━━━━━━━━━━━━━━━━━━━━━━━━━━━━━━━━━━\u001b[0m \u001b[32m12.0/12.0 MB\u001b[0m \u001b[31m62.5 MB/s\u001b[0m eta \u001b[36m0:00:00\u001b[0m\n",
            "\u001b[?25hRequirement already satisfied: pandas>=0.25.3 in /usr/local/lib/python3.10/dist-packages (from tabula-py) (1.5.3)\n",
            "Requirement already satisfied: numpy in /usr/local/lib/python3.10/dist-packages (from tabula-py) (1.22.4)\n",
            "Collecting distro (from tabula-py)\n",
            "  Downloading distro-1.8.0-py3-none-any.whl (20 kB)\n",
            "Requirement already satisfied: python-dateutil>=2.8.1 in /usr/local/lib/python3.10/dist-packages (from pandas>=0.25.3->tabula-py) (2.8.2)\n",
            "Requirement already satisfied: pytz>=2020.1 in /usr/local/lib/python3.10/dist-packages (from pandas>=0.25.3->tabula-py) (2022.7.1)\n",
            "Requirement already satisfied: six>=1.5 in /usr/local/lib/python3.10/dist-packages (from python-dateutil>=2.8.1->pandas>=0.25.3->tabula-py) (1.16.0)\n",
            "Installing collected packages: distro, tabula-py\n",
            "Successfully installed distro-1.8.0 tabula-py-2.7.0\n"
          ]
        }
      ]
    },
    {
      "cell_type": "code",
      "source": [
        "import tabula\n",
        "file1 = \"/content/drive/MyDrive/Colab Notebooks/test/2023-asx-half-year-financial-statements.pdf\"\n",
        "table = tabula.read_pdf(file1,pages=6)\n",
        "table[0]"
      ],
      "metadata": {
        "colab": {
          "base_uri": "https://localhost:8080/",
          "height": 708
        },
        "id": "2U8_e0WJE3q2",
        "outputId": "da4f9bd2-75fc-4215-c3d0-af5816cfe73c"
      },
      "execution_count": null,
      "outputs": [
        {
          "output_type": "execute_result",
          "data": {
            "text/plain": [
              "                                           Unnamed: 0    31 Dec    30 Jun  \\\n",
              "0                                                 NaN      2022      2022   \n",
              "1                                                 NaN        $m        $m   \n",
              "2                                              Assets       NaN       NaN   \n",
              "3                                                Cash   5,952.9   4,972.2   \n",
              "4                                   Financial assets1   6,072.3   9,484.8   \n",
              "5                    Intangibles (excluding software)   2,325.5   2,325.5   \n",
              "6   Capitalised software and property, plant and e...     158.7     363.5   \n",
              "7                                         Investments      90.3      97.6   \n",
              "8                                 Right-of-use assets      52.8      58.3   \n",
              "9                                        Other assets     831.9     935.6   \n",
              "10                                       Total assets  15,484.4  18,237.5   \n",
              "11                                        Liabilities       NaN       NaN   \n",
              "12                      Amounts owing to participants  10,801.0  13,276.7   \n",
              "13                                  Lease liabilities      62.3      67.6   \n",
              "14                                  Other liabilities     989.8   1,087.8   \n",
              "15                                  Total liabilities  11,853.1  14,432.1   \n",
              "16                                             Equity       NaN       NaN   \n",
              "17                                            Capital   3,027.2   3,027.2   \n",
              "18                                  Retained earnings     539.2     697.8   \n",
              "19                                           Reserves      64.9      80.4   \n",
              "20                                       Total equity   3,631.3   3,805.4   \n",
              "\n",
              "               Variance Unnamed: 1  \n",
              "0   increase/(decrease)        NaN  \n",
              "1                    $m          %  \n",
              "2                   NaN        NaN  \n",
              "3                 980.7       19.7  \n",
              "4             (3,412.5)     (36.0)  \n",
              "5                     —          —  \n",
              "6               (204.8)     (56.3)  \n",
              "7                 (7.3)      (7.5)  \n",
              "8                 (5.5)      (9.4)  \n",
              "9               (103.7)     (11.1)  \n",
              "10            (2,753.1)     (15.1)  \n",
              "11                  NaN        NaN  \n",
              "12            (2,475.7)     (18.6)  \n",
              "13                (5.3)      (7.8)  \n",
              "14               (98.0)      (9.0)  \n",
              "15            (2,579.0)     (17.9)  \n",
              "16                  NaN        NaN  \n",
              "17                    —          —  \n",
              "18              (158.6)     (22.7)  \n",
              "19               (15.5)     (19.3)  \n",
              "20              (174.1)      (4.6)  "
            ],
            "text/html": [
              "\n",
              "  <div id=\"df-8b8bad6b-fefc-44b8-afec-00b66a330c9c\">\n",
              "    <div class=\"colab-df-container\">\n",
              "      <div>\n",
              "<style scoped>\n",
              "    .dataframe tbody tr th:only-of-type {\n",
              "        vertical-align: middle;\n",
              "    }\n",
              "\n",
              "    .dataframe tbody tr th {\n",
              "        vertical-align: top;\n",
              "    }\n",
              "\n",
              "    .dataframe thead th {\n",
              "        text-align: right;\n",
              "    }\n",
              "</style>\n",
              "<table border=\"1\" class=\"dataframe\">\n",
              "  <thead>\n",
              "    <tr style=\"text-align: right;\">\n",
              "      <th></th>\n",
              "      <th>Unnamed: 0</th>\n",
              "      <th>31 Dec</th>\n",
              "      <th>30 Jun</th>\n",
              "      <th>Variance</th>\n",
              "      <th>Unnamed: 1</th>\n",
              "    </tr>\n",
              "  </thead>\n",
              "  <tbody>\n",
              "    <tr>\n",
              "      <th>0</th>\n",
              "      <td>NaN</td>\n",
              "      <td>2022</td>\n",
              "      <td>2022</td>\n",
              "      <td>increase/(decrease)</td>\n",
              "      <td>NaN</td>\n",
              "    </tr>\n",
              "    <tr>\n",
              "      <th>1</th>\n",
              "      <td>NaN</td>\n",
              "      <td>$m</td>\n",
              "      <td>$m</td>\n",
              "      <td>$m</td>\n",
              "      <td>%</td>\n",
              "    </tr>\n",
              "    <tr>\n",
              "      <th>2</th>\n",
              "      <td>Assets</td>\n",
              "      <td>NaN</td>\n",
              "      <td>NaN</td>\n",
              "      <td>NaN</td>\n",
              "      <td>NaN</td>\n",
              "    </tr>\n",
              "    <tr>\n",
              "      <th>3</th>\n",
              "      <td>Cash</td>\n",
              "      <td>5,952.9</td>\n",
              "      <td>4,972.2</td>\n",
              "      <td>980.7</td>\n",
              "      <td>19.7</td>\n",
              "    </tr>\n",
              "    <tr>\n",
              "      <th>4</th>\n",
              "      <td>Financial assets1</td>\n",
              "      <td>6,072.3</td>\n",
              "      <td>9,484.8</td>\n",
              "      <td>(3,412.5)</td>\n",
              "      <td>(36.0)</td>\n",
              "    </tr>\n",
              "    <tr>\n",
              "      <th>5</th>\n",
              "      <td>Intangibles (excluding software)</td>\n",
              "      <td>2,325.5</td>\n",
              "      <td>2,325.5</td>\n",
              "      <td>—</td>\n",
              "      <td>—</td>\n",
              "    </tr>\n",
              "    <tr>\n",
              "      <th>6</th>\n",
              "      <td>Capitalised software and property, plant and e...</td>\n",
              "      <td>158.7</td>\n",
              "      <td>363.5</td>\n",
              "      <td>(204.8)</td>\n",
              "      <td>(56.3)</td>\n",
              "    </tr>\n",
              "    <tr>\n",
              "      <th>7</th>\n",
              "      <td>Investments</td>\n",
              "      <td>90.3</td>\n",
              "      <td>97.6</td>\n",
              "      <td>(7.3)</td>\n",
              "      <td>(7.5)</td>\n",
              "    </tr>\n",
              "    <tr>\n",
              "      <th>8</th>\n",
              "      <td>Right-of-use assets</td>\n",
              "      <td>52.8</td>\n",
              "      <td>58.3</td>\n",
              "      <td>(5.5)</td>\n",
              "      <td>(9.4)</td>\n",
              "    </tr>\n",
              "    <tr>\n",
              "      <th>9</th>\n",
              "      <td>Other assets</td>\n",
              "      <td>831.9</td>\n",
              "      <td>935.6</td>\n",
              "      <td>(103.7)</td>\n",
              "      <td>(11.1)</td>\n",
              "    </tr>\n",
              "    <tr>\n",
              "      <th>10</th>\n",
              "      <td>Total assets</td>\n",
              "      <td>15,484.4</td>\n",
              "      <td>18,237.5</td>\n",
              "      <td>(2,753.1)</td>\n",
              "      <td>(15.1)</td>\n",
              "    </tr>\n",
              "    <tr>\n",
              "      <th>11</th>\n",
              "      <td>Liabilities</td>\n",
              "      <td>NaN</td>\n",
              "      <td>NaN</td>\n",
              "      <td>NaN</td>\n",
              "      <td>NaN</td>\n",
              "    </tr>\n",
              "    <tr>\n",
              "      <th>12</th>\n",
              "      <td>Amounts owing to participants</td>\n",
              "      <td>10,801.0</td>\n",
              "      <td>13,276.7</td>\n",
              "      <td>(2,475.7)</td>\n",
              "      <td>(18.6)</td>\n",
              "    </tr>\n",
              "    <tr>\n",
              "      <th>13</th>\n",
              "      <td>Lease liabilities</td>\n",
              "      <td>62.3</td>\n",
              "      <td>67.6</td>\n",
              "      <td>(5.3)</td>\n",
              "      <td>(7.8)</td>\n",
              "    </tr>\n",
              "    <tr>\n",
              "      <th>14</th>\n",
              "      <td>Other liabilities</td>\n",
              "      <td>989.8</td>\n",
              "      <td>1,087.8</td>\n",
              "      <td>(98.0)</td>\n",
              "      <td>(9.0)</td>\n",
              "    </tr>\n",
              "    <tr>\n",
              "      <th>15</th>\n",
              "      <td>Total liabilities</td>\n",
              "      <td>11,853.1</td>\n",
              "      <td>14,432.1</td>\n",
              "      <td>(2,579.0)</td>\n",
              "      <td>(17.9)</td>\n",
              "    </tr>\n",
              "    <tr>\n",
              "      <th>16</th>\n",
              "      <td>Equity</td>\n",
              "      <td>NaN</td>\n",
              "      <td>NaN</td>\n",
              "      <td>NaN</td>\n",
              "      <td>NaN</td>\n",
              "    </tr>\n",
              "    <tr>\n",
              "      <th>17</th>\n",
              "      <td>Capital</td>\n",
              "      <td>3,027.2</td>\n",
              "      <td>3,027.2</td>\n",
              "      <td>—</td>\n",
              "      <td>—</td>\n",
              "    </tr>\n",
              "    <tr>\n",
              "      <th>18</th>\n",
              "      <td>Retained earnings</td>\n",
              "      <td>539.2</td>\n",
              "      <td>697.8</td>\n",
              "      <td>(158.6)</td>\n",
              "      <td>(22.7)</td>\n",
              "    </tr>\n",
              "    <tr>\n",
              "      <th>19</th>\n",
              "      <td>Reserves</td>\n",
              "      <td>64.9</td>\n",
              "      <td>80.4</td>\n",
              "      <td>(15.5)</td>\n",
              "      <td>(19.3)</td>\n",
              "    </tr>\n",
              "    <tr>\n",
              "      <th>20</th>\n",
              "      <td>Total equity</td>\n",
              "      <td>3,631.3</td>\n",
              "      <td>3,805.4</td>\n",
              "      <td>(174.1)</td>\n",
              "      <td>(4.6)</td>\n",
              "    </tr>\n",
              "  </tbody>\n",
              "</table>\n",
              "</div>\n",
              "      <button class=\"colab-df-convert\" onclick=\"convertToInteractive('df-8b8bad6b-fefc-44b8-afec-00b66a330c9c')\"\n",
              "              title=\"Convert this dataframe to an interactive table.\"\n",
              "              style=\"display:none;\">\n",
              "        \n",
              "  <svg xmlns=\"http://www.w3.org/2000/svg\" height=\"24px\"viewBox=\"0 0 24 24\"\n",
              "       width=\"24px\">\n",
              "    <path d=\"M0 0h24v24H0V0z\" fill=\"none\"/>\n",
              "    <path d=\"M18.56 5.44l.94 2.06.94-2.06 2.06-.94-2.06-.94-.94-2.06-.94 2.06-2.06.94zm-11 1L8.5 8.5l.94-2.06 2.06-.94-2.06-.94L8.5 2.5l-.94 2.06-2.06.94zm10 10l.94 2.06.94-2.06 2.06-.94-2.06-.94-.94-2.06-.94 2.06-2.06.94z\"/><path d=\"M17.41 7.96l-1.37-1.37c-.4-.4-.92-.59-1.43-.59-.52 0-1.04.2-1.43.59L10.3 9.45l-7.72 7.72c-.78.78-.78 2.05 0 2.83L4 21.41c.39.39.9.59 1.41.59.51 0 1.02-.2 1.41-.59l7.78-7.78 2.81-2.81c.8-.78.8-2.07 0-2.86zM5.41 20L4 18.59l7.72-7.72 1.47 1.35L5.41 20z\"/>\n",
              "  </svg>\n",
              "      </button>\n",
              "      \n",
              "  <style>\n",
              "    .colab-df-container {\n",
              "      display:flex;\n",
              "      flex-wrap:wrap;\n",
              "      gap: 12px;\n",
              "    }\n",
              "\n",
              "    .colab-df-convert {\n",
              "      background-color: #E8F0FE;\n",
              "      border: none;\n",
              "      border-radius: 50%;\n",
              "      cursor: pointer;\n",
              "      display: none;\n",
              "      fill: #1967D2;\n",
              "      height: 32px;\n",
              "      padding: 0 0 0 0;\n",
              "      width: 32px;\n",
              "    }\n",
              "\n",
              "    .colab-df-convert:hover {\n",
              "      background-color: #E2EBFA;\n",
              "      box-shadow: 0px 1px 2px rgba(60, 64, 67, 0.3), 0px 1px 3px 1px rgba(60, 64, 67, 0.15);\n",
              "      fill: #174EA6;\n",
              "    }\n",
              "\n",
              "    [theme=dark] .colab-df-convert {\n",
              "      background-color: #3B4455;\n",
              "      fill: #D2E3FC;\n",
              "    }\n",
              "\n",
              "    [theme=dark] .colab-df-convert:hover {\n",
              "      background-color: #434B5C;\n",
              "      box-shadow: 0px 1px 3px 1px rgba(0, 0, 0, 0.15);\n",
              "      filter: drop-shadow(0px 1px 2px rgba(0, 0, 0, 0.3));\n",
              "      fill: #FFFFFF;\n",
              "    }\n",
              "  </style>\n",
              "\n",
              "      <script>\n",
              "        const buttonEl =\n",
              "          document.querySelector('#df-8b8bad6b-fefc-44b8-afec-00b66a330c9c button.colab-df-convert');\n",
              "        buttonEl.style.display =\n",
              "          google.colab.kernel.accessAllowed ? 'block' : 'none';\n",
              "\n",
              "        async function convertToInteractive(key) {\n",
              "          const element = document.querySelector('#df-8b8bad6b-fefc-44b8-afec-00b66a330c9c');\n",
              "          const dataTable =\n",
              "            await google.colab.kernel.invokeFunction('convertToInteractive',\n",
              "                                                     [key], {});\n",
              "          if (!dataTable) return;\n",
              "\n",
              "          const docLinkHtml = 'Like what you see? Visit the ' +\n",
              "            '<a target=\"_blank\" href=https://colab.research.google.com/notebooks/data_table.ipynb>data table notebook</a>'\n",
              "            + ' to learn more about interactive tables.';\n",
              "          element.innerHTML = '';\n",
              "          dataTable['output_type'] = 'display_data';\n",
              "          await google.colab.output.renderOutput(dataTable, element);\n",
              "          const docLink = document.createElement('div');\n",
              "          docLink.innerHTML = docLinkHtml;\n",
              "          element.appendChild(docLink);\n",
              "        }\n",
              "      </script>\n",
              "    </div>\n",
              "  </div>\n",
              "  "
            ]
          },
          "metadata": {},
          "execution_count": 13
        }
      ]
    }
  ]
}